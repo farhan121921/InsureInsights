{
 "cells": [
  {
   "cell_type": "code",
   "execution_count": 1,
   "id": "74dcb8fc",
   "metadata": {},
   "outputs": [],
   "source": [
    "import findspark\n",
    "findspark.init()\n",
    "import pandas as pd\n",
    "from pyspark.sql import SparkSession\n",
    "import pyspark.sql.functions as F\n",
    "import plotly.express as px\n",
    "import difflib\n",
    "import pyspark"
   ]
  },
  {
   "cell_type": "code",
   "execution_count": 2,
   "id": "6ac1434f",
   "metadata": {},
   "outputs": [],
   "source": [
    "spark = SparkSession.builder.getOrCreate() \n",
    "dataset_path = 'updated.csv'\n",
    "df = spark.read.option(\"header\", \"true\").csv(dataset_path)\n"
   ]
  },
  {
   "cell_type": "code",
   "execution_count": 10,
   "id": "ff2e2183",
   "metadata": {
    "scrolled": true
   },
   "outputs": [
    {
     "name": "stdout",
     "output_type": "stream",
     "text": [
      "Enter the method to fill NaN values (mnar, mar, mcar, mean, median): mnar\n",
      "+------------------+---+-------------+----------------+------------+----------+-----------------+---------------------+--------------+-----------+-----------+-----------------------+------------------+---------------+--------------------+-------------+------------+--------------+-------------+-----------------+------------------------+---------------------------+---------------+---------------+------------+--------------+\n",
      "|months_as_customer|age|policy_number|policy_bind_date|policy_state|policy_csl|policy_deductable|policy_annual_premium|umbrella_limit|insured_zip|insured_sex|insured_education_level|insured_occupation|insured_hobbies|insured_relationship|capital-gains|capital-loss|incident_state|incident_city|incident_location|incident_hour_of_the_day|number_of_vehicles_involved|property_damage|bodily_injuries|injury_claim|fraud_reported|\n",
      "+------------------+---+-------------+----------------+------------+----------+-----------------+---------------------+--------------+-----------+-----------+-----------------------+------------------+---------------+--------------------+-------------+------------+--------------+-------------+-----------------+------------------------+---------------------------+---------------+---------------+------------+--------------+\n",
      "|               328| 48|       521585|      2014-10-17|          OH|   250/500|             1000|              1406.91|             0|     466132|       MALE|                     MD|      craft-repair|       sleeping|             husband|        53300|           0|            SC|     Columbus|   9935 4th Drive|                       5|                          1|            YES|              1|        6510|             Y|\n",
      "|               228| 42|       342868|      2006-06-27|          IN|   250/500|             2000|              1197.22|       5000000|     468176|       MALE|                     MD| machine-op-inspct|        reading|      other-relative|            0|           0|            VA|    Riverwood|     6608 MLK Hwy|                       8|                          1|              ?|              0|         780|             Y|\n",
      "+------------------+---+-------------+----------------+------------+----------+-----------------+---------------------+--------------+-----------+-----------+-----------------------+------------------+---------------+--------------------+-------------+------------+--------------+-------------+-----------------+------------------------+---------------------------+---------------+---------------+------------+--------------+\n",
      "only showing top 2 rows\n",
      "\n"
     ]
    }
   ],
   "source": [
    "from pyspark.sql.functions import col\n",
    "\n",
    "columns = df.columns\n",
    "\n",
    "# Function to fill NaN values in DataFrame using the specified method\n",
    "def fill_nan_values(df, method):\n",
    "    if method == 'mnar':\n",
    "        filled_df = df.na.fill('MNAR')\n",
    "    elif method == 'mar':\n",
    "        filled_df = df.na.fill('MAR')\n",
    "    elif method == 'mcar':\n",
    "        filled_df = df.na.fill('MCAR')\n",
    "    elif method == 'mean':\n",
    "        filled_df = df\n",
    "        for column in filled_df.columns:\n",
    "            filled_df = filled_df.withColumn(column, col(column).fillna(df.select(column).agg({\"column\": \"mean\"}).collect()[0][0]))\n",
    "    elif method == 'median':\n",
    "        filled_df = df\n",
    "        for column in filled_df.columns:\n",
    "            filled_df = filled_df.withColumn(column, col(column).fillna(df.select(column).agg({\"column\": \"median\"}).collect()[0][0]))\n",
    "    else:\n",
    "        print(\"Invalid method specified!\")\n",
    "        return\n",
    "\n",
    "    return filled_df\n",
    "\n",
    "# Prompt the user for the preferred method\n",
    "method = input(\"Enter the method to fill NaN values (mnar, mar, mcar, mean, median): \")\n",
    "\n",
    "# Fill NaN values using the user-specified method\n",
    "df = fill_nan_values(df, method)\n",
    "\n",
    "df.show(2)"
   ]
  },
  {
   "cell_type": "code",
   "execution_count": 14,
   "id": "38851d65",
   "metadata": {},
   "outputs": [
    {
     "data": {
      "image/png": "[encoded data removed]",
      "text/plain": [
       "<Figure size 432x288 with 1 Axes>"
      ]
     },
     "metadata": {},
     "output_type": "display_data"
    }
   ],
   "source": [
    "from pyspark.sql.functions import col, sum as spark_sum\n",
    "import matplotlib.pyplot as plt\n",
    "\n",
    "# Calculate the counts of NaN and non-NaN values\n",
    "nan_count = df.select([col(c).isNull().cast(\"int\").alias(c) for c in df.columns]).groupBy().sum().collect()[0][0]\n",
    "non_nan_count = df.count() - nan_count\n",
    "\n",
    "# Prepare data for the pie chart\n",
    "labels = ['NaN', 'Non-NaN']\n",
    "sizes = [nan_count, non_nan_count]\n",
    "colors = ['#ff9999', '#66b3ff']\n",
    "\n",
    "# Create the pie chart\n",
    "plt.pie(sizes, labels=labels, colors=colors, autopct='%1.1f%%', startangle=90)\n",
    "plt.axis('equal')  # Equal aspect ratio ensures that pie is drawn as a circle\n",
    "plt.title('NaN vs Non-NaN Values')\n",
    "\n",
    "# Display the pie chart\n",
    "plt.show()"
   ]
  },
  {
   "cell_type": "code",
   "execution_count": 4,
   "id": "89aa0038",
   "metadata": {},
   "outputs": [
    {
     "name": "stdout",
     "output_type": "stream",
     "text": [
      "Enter the statement: policy_state\n",
      "['policy_state'] None\n",
      "Please specify the type of graph (bar, line, scatter, histogram).\n"
     ]
    }
   ],
   "source": [
    "import difflib\n",
    "\n",
    "\n",
    "def extract_column_names_and_graph_type(text, df):\n",
    "    tokens = text.split()\n",
    "\n",
    "    column_names = []\n",
    "    graph_type = None\n",
    "\n",
    "    available_columns = df.columns\n",
    "\n",
    "    for token in tokens:\n",
    "        if token in available_columns:\n",
    "            column_names.append(token)\n",
    "        else:\n",
    "            matches = difflib.get_close_matches(token, available_columns)\n",
    "            if len(matches) > 0:\n",
    "                column_names.append(matches[0])\n",
    "        if token.lower() in ['bar', 'line', 'scatter', 'histogram']:\n",
    "            graph_type = token.lower()\n",
    "    print(column_names,graph_type)\n",
    "    return column_names, graph_type\n",
    "\n",
    "\n",
    "def generate_visualization(data, column_names, graph_type):\n",
    "    \n",
    "    data = data.toPandas()\n",
    "    if len(column_names) == 1:\n",
    "        x_column = column_names[0]\n",
    "        y_values = [1, 3, 2]  # Placeholder values\n",
    "    elif len(column_names) == 2:\n",
    "        x_column = column_names[0]\n",
    "        y_column = column_names[1]\n",
    "        y_values = data[y_column]\n",
    "    else:\n",
    "        print('Invalid number of column names!')\n",
    "        return\n",
    "\n",
    "    if graph_type == 'bar':\n",
    "        fig = px.bar(data, x=x_column, y=y_values)\n",
    "    elif graph_type == 'line':\n",
    "        fig = px.line(data, x=x_column, y=y_values)\n",
    "    elif graph_type == 'scatter':\n",
    "        fig = px.scatter(data, x=x_column, y=y_values)\n",
    "    elif graph_type == 'histogram':\n",
    "        fig = px.histogram(data, x=x_column)\n",
    "    else:\n",
    "        print('Invalid graph type!')\n",
    "        return\n",
    "\n",
    "    fig.update_layout(title=f'{graph_type.capitalize()} Plot')\n",
    "    fig.show()\n",
    "\n",
    "\n",
    "statement = input(\"Enter the statement: \")\n",
    "\n",
    "column_names, graph_type = extract_column_names_and_graph_type(statement, df)\n",
    "\n",
    "# Generate the requested visualization\n",
    "if len(column_names) < 1:\n",
    "    print('Please provide at least two column names.')\n",
    "elif graph_type is None:\n",
    "    print('Please specify the type of graph (bar, line, scatter, histogram).')\n",
    "else:\n",
    "    generate_visualization(df, column_names, graph_type)"
   ]
  }
 ],
 "metadata": {
  "kernelspec": {
   "display_name": "Python 3 (ipykernel)",
   "language": "python",
   "name": "python3"
  },
  "language_info": {
   "codemirror_mode": {
    "name": "ipython",
    "version": 3
   },
   "file_extension": ".py",
   "mimetype": "text/x-python",
   "name": "python",
   "nbconvert_exporter": "python",
   "pygments_lexer": "ipython3",
   "version": "3.9.12"
  }
 },
 "nbformat": 4,
 "nbformat_minor": 5
}
