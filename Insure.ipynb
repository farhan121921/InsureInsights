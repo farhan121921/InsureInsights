{
 "cells": [
  {
   "cell_type": "code",
   "execution_count": 1,
   "id": "74dcb8fc",
   "metadata": {},
   "outputs": [],
   "source": [
    "import findspark\n",
    "findspark.init()\n",
    "import pandas as pd\n",
    "from pyspark.sql import SparkSession\n",
    "import pyspark.sql.functions as F\n",
    "import plotly.express as px\n",
    "import difflib\n",
    "import pyspark"
   ]
  },
  {
   "cell_type": "code",
   "execution_count": 2,
   "id": "89aa0038",
   "metadata": {},
   "outputs": [],
   "source": [
    "spark = SparkSession.builder.getOrCreate() \n",
    "dataset_path = 'updated.csv'\n",
    "df = spark.read.option(\"header\", \"true\").csv(dataset_path)\n"
   ]
  },
  {
   "cell_type": "code",
   "execution_count": 16,
   "id": "0a5d151b",
   "metadata": {},
   "outputs": [
    {
     "data": {
      "text/plain": [
       "['months_as_customer',\n",
       " 'age',\n",
       " 'policy_number',\n",
       " 'policy_bind_date',\n",
       " 'policy_state',\n",
       " 'policy_csl',\n",
       " 'policy_deductable',\n",
       " 'policy_annual_premium',\n",
       " 'umbrella_limit',\n",
       " 'insured_zip',\n",
       " 'insured_sex',\n",
       " 'insured_education_level',\n",
       " 'insured_occupation',\n",
       " 'insured_hobbies',\n",
       " 'insured_relationship',\n",
       " 'capital-gains',\n",
       " 'capital-loss',\n",
       " 'incident_state',\n",
       " 'incident_city',\n",
       " 'incident_location',\n",
       " 'incident_hour_of_the_day',\n",
       " 'number_of_vehicles_involved',\n",
       " 'bodily_injuries',\n",
       " 'injury_claim',\n",
       " 'fraud_reported']"
      ]
     },
     "execution_count": 16,
     "metadata": {},
     "output_type": "execute_result"
    }
   ],
   "source": [
    "df.columns"
   ]
  },
  {
   "cell_type": "code",
   "execution_count": 17,
   "id": "b9a7457e",
   "metadata": {},
   "outputs": [
    {
     "name": "stdout",
     "output_type": "stream",
     "text": [
      "+------------------+---+-------------+----------------+------------+----------+-----------------+---------------------+--------------+-----------+-----------+-----------------------+------------------+---------------+--------------------+-------------+------------+--------------+-------------+------------------+------------------------+---------------------------+---------------+--------------+\n",
      "|months_as_customer|age|policy_number|policy_bind_date|policy_state|policy_csl|policy_deductable|policy_annual_premium|umbrella_limit|insured_zip|insured_sex|insured_education_level|insured_occupation|insured_hobbies|insured_relationship|capital-gains|capital-loss|incident_state|incident_city| incident_location|incident_hour_of_the_day|number_of_vehicles_involved|bodily_injuries|fraud_reported|\n",
      "+------------------+---+-------------+----------------+------------+----------+-----------------+---------------------+--------------+-----------+-----------+-----------------------+------------------+---------------+--------------------+-------------+------------+--------------+-------------+------------------+------------------------+---------------------------+---------------+--------------+\n",
      "|               328| 48|       521585|      2014-10-17|          OH|   250/500|             1000|              1406.91|             0|     466132|       MALE|                     MD|      craft-repair|       sleeping|             husband|        53300|           0|            SC|     Columbus|    9935 4th Drive|                       5|                          1|              1|             Y|\n",
      "|               228| 42|       342868|      2006-06-27|          IN|   250/500|             2000|              1197.22|       5000000|     468176|       MALE|                     MD| machine-op-inspct|        reading|      other-relative|            0|           0|            VA|    Riverwood|      6608 MLK Hwy|                       8|                          1|              0|             Y|\n",
      "|               134| 29|       687698|      2000-09-06|          OH|   100/300|             2000|              1413.14|       5000000|     430632|     FEMALE|                    PhD|             sales|    board-games|           own-child|        35100|           0|            NY|     Columbus| 7121 Francis Lane|                       7|                          3|              2|             N|\n",
      "|               256| 41|       227811|      1990-05-25|          IL|   250/500|             2000|              1415.74|       6000000|     608117|     FEMALE|                    PhD|      armed-forces|    board-games|           unmarried|        48900|      -62400|            OH|    Arlington|  6956 Maple Drive|                       5|                          1|              1|             Y|\n",
      "|               228| 44|       367455|      2014-06-06|          IL|  500/1000|             1000|              1583.91|       6000000|     610706|       MALE|              Associate|             sales|    board-games|           unmarried|        66000|      -46000|            NY|    Arlington|      3041 3rd Ave|                      20|                          1|              0|             N|\n",
      "|               256| 39|       104594|      2006-10-12|          OH|   250/500|             1000|               1351.1|             0|     478456|     FEMALE|                    PhD|      tech-support| bungie-jumping|           unmarried|            0|           0|            SC|    Arlington|8973 Washington St|                      19|                          3|              0|             Y|\n",
      "|               137| 34|       413978|      2000-06-04|          IN|   250/500|             1000|              1333.35|             0|     441716|       MALE|                    PhD|    prof-specialty|    board-games|             husband|            0|      -77000|            NY|  Springfield| 5846 Weaver Drive|                       0|                          3|              0|             N|\n",
      "|               165| 37|       429027|      1990-02-03|          IL|   100/300|             1000|              1137.03|             0|     603195|       MALE|              Associate|      tech-support|   base-jumping|           unmarried|            0|           0|            VA|     Columbus|      3525 3rd Hwy|                      23|                          3|              2|             N|\n",
      "|                27| 33|       485665|      1997-02-05|          IL|   100/300|              500|              1442.99|             0|     601734|     FEMALE|                    PhD|     other-service|           golf|           own-child|            0|           0|            WV|    Arlington|   4872 Rock Ridge|                      21|                          1|              1|             N|\n",
      "|               212| 42|       636550|      2011-07-25|          IL|   100/300|              500|              1315.68|             0|     600983|       MALE|                    PhD|   priv-house-serv|        camping|                wife|            0|      -39300|            NC|    Hillsdale|  3066 Francis Ave|                      14|                          1|              2|             N|\n",
      "+------------------+---+-------------+----------------+------------+----------+-----------------+---------------------+--------------+-----------+-----------+-----------------------+------------------+---------------+--------------------+-------------+------------+--------------+-------------+------------------+------------------------+---------------------------+---------------+--------------+\n",
      "only showing top 10 rows\n",
      "\n"
     ]
    }
   ],
   "source": [
    "# Function to drop columns from DataFrame\n",
    "def drop_columns(df, columns):\n",
    "    return df.drop(*columns)\n",
    "\n",
    "# Prompt the user for columns to drop\n",
    "drop_columns_input = input(\"Enter the columns to drop (comma-separated): \")\n",
    "columns_to_drop = [col.strip() for col in drop_columns_input.split(\",\")]\n",
    "\n",
    "# Drop the specified columns\n",
    "df = drop_columns(df, columns_to_drop)\n",
    "\n",
    "# Display the updated DataFrame\n",
    "df.show(10)"
   ]
  },
  {
   "cell_type": "code",
   "execution_count": 13,
   "id": "49a8eefb",
   "metadata": {},
   "outputs": [
    {
     "name": "stdout",
     "output_type": "stream",
     "text": [
      "+------------------+---+-------------+----------------+------------+----------+-----------------+---------------------+--------------+-----------+-----------+-----------------------+------------------+---------------+--------------------+-------------+------------+--------------+-------------+------------------+------------------------+---------------------------+---------------+------------+--------------+\n",
      "|months_as_customer|age|policy_number|policy_bind_date|policy_state|policy_csl|policy_deductable|policy_annual_premium|umbrella_limit|insured_zip|insured_sex|insured_education_level|insured_occupation|insured_hobbies|insured_relationship|capital-gains|capital-loss|incident_state|incident_city| incident_location|incident_hour_of_the_day|number_of_vehicles_involved|bodily_injuries|injury_claim|fraud_reported|\n",
      "+------------------+---+-------------+----------------+------------+----------+-----------------+---------------------+--------------+-----------+-----------+-----------------------+------------------+---------------+--------------------+-------------+------------+--------------+-------------+------------------+------------------------+---------------------------+---------------+------------+--------------+\n",
      "|               328| 48|       521585|      2014-10-17|          OH|   250/500|             1000|              1406.91|             0|     466132|       MALE|                     MD|      craft-repair|       sleeping|             husband|        53300|           0|            SC|     Columbus|    9935 4th Drive|                       5|                          1|              1|        6510|             Y|\n",
      "|               228| 42|       342868|      2006-06-27|          IN|   250/500|             2000|              1197.22|       5000000|     468176|       MALE|                     MD| machine-op-inspct|        reading|      other-relative|            0|           0|            VA|    Riverwood|      6608 MLK Hwy|                       8|                          1|              0|         780|             Y|\n",
      "|               134| 29|       687698|      2000-09-06|          OH|   100/300|             2000|              1413.14|       5000000|     430632|     FEMALE|                    PhD|             sales|    board-games|           own-child|        35100|           0|            NY|     Columbus| 7121 Francis Lane|                       7|                          3|              2|        7700|             N|\n",
      "|               256| 41|       227811|      1990-05-25|          IL|   250/500|             2000|              1415.74|       6000000|     608117|     FEMALE|                    PhD|      armed-forces|    board-games|           unmarried|        48900|      -62400|            OH|    Arlington|  6956 Maple Drive|                       5|                          1|              1|        6340|             Y|\n",
      "|               228| 44|       367455|      2014-06-06|          IL|  500/1000|             1000|              1583.91|       6000000|     610706|       MALE|              Associate|             sales|    board-games|           unmarried|        66000|      -46000|            NY|    Arlington|      3041 3rd Ave|                      20|                          1|              0|        1300|             N|\n",
      "|               256| 39|       104594|      2006-10-12|          OH|   250/500|             1000|               1351.1|             0|     478456|     FEMALE|                    PhD|      tech-support| bungie-jumping|           unmarried|            0|           0|            SC|    Arlington|8973 Washington St|                      19|                          3|              0|        6410|             Y|\n",
      "|               137| 34|       413978|      2000-06-04|          IN|   250/500|             1000|              1333.35|             0|     441716|       MALE|                    PhD|    prof-specialty|    board-games|             husband|            0|      -77000|            NY|  Springfield| 5846 Weaver Drive|                       0|                          3|              0|       21450|             N|\n",
      "|               165| 37|       429027|      1990-02-03|          IL|   100/300|             1000|              1137.03|             0|     603195|       MALE|              Associate|      tech-support|   base-jumping|           unmarried|            0|           0|            VA|     Columbus|      3525 3rd Hwy|                      23|                          3|              2|        9380|             N|\n",
      "|                27| 33|       485665|      1997-02-05|          IL|   100/300|              500|              1442.99|             0|     601734|     FEMALE|                    PhD|     other-service|           golf|           own-child|            0|           0|            WV|    Arlington|   4872 Rock Ridge|                      21|                          1|              1|        2770|             N|\n",
      "|               212| 42|       636550|      2011-07-25|          IL|   100/300|              500|              1315.68|             0|     600983|       MALE|                    PhD|   priv-house-serv|        camping|                wife|            0|      -39300|            NC|    Hillsdale|  3066 Francis Ave|                      14|                          1|              2|        4700|             N|\n",
      "+------------------+---+-------------+----------------+------------+----------+-----------------+---------------------+--------------+-----------+-----------+-----------------------+------------------+---------------+--------------------+-------------+------------+--------------+-------------+------------------+------------------------+---------------------------+---------------+------------+--------------+\n",
      "only showing top 10 rows\n",
      "\n"
     ]
    }
   ],
   "source": [
    "from pyspark.sql.functions import col, when\n",
    "\n",
    "# Function to fill NaN values in DataFrame using the specified method\n",
    "def fill_nan_values(df, method):\n",
    "    # Remove the \"property_damage\" column from the DataFrame\n",
    "    df = df.drop(\"property_damage\")\n",
    "    if method == 'mnar':\n",
    "        filled_df = df.na.fill('MNAR')\n",
    "    elif method == 'mar':\n",
    "        filled_df = df.na.fill('MAR')\n",
    "    elif method == 'mcar':\n",
    "        filled_df = df.na.fill('MCAR')\n",
    "    elif method == 'mean':\n",
    "        filled_df = df\n",
    "        for column in filled_df.columns:\n",
    "            filled_df = filled_df.withColumn(column, col(column).fillna(df.select(column).agg({\"column\": \"mean\"}).collect()[0][0]))\n",
    "    elif method == 'median':\n",
    "        filled_df = df\n",
    "        for column in filled_df.columns:\n",
    "            filled_df = filled_df.withColumn(column, col(column).fillna(df.select(column).agg({\"column\": \"median\"}).collect()[0][0]))\n",
    "    elif method == 'most_frequent':\n",
    "        filled_df = df\n",
    "        for column in filled_df.columns:\n",
    "            if filled_df.schema[column].dataType == 'string':\n",
    "                mode_value = filled_df.filter(col(column) != '?').groupBy(column).count().orderBy(col(\"count\").desc()).select(column).first()[0]\n",
    "                filled_df = filled_df.withColumn(column, when(col(column) == '?', mode_value).otherwise(col(column)))\n",
    "    else:\n",
    "        print(\"Invalid method specified!\")\n",
    "        return\n",
    "\n",
    "    return filled_df\n",
    "\n",
    "# Prompt the user for the preferred method\n",
    "method = input(\"Enter the method to fill NaN values (mnar, mar, mcar, mean, median, most_frequent): \")\n",
    "\n",
    "# Fill NaN values using the user-specified method\n",
    "df = fill_nan_values(df, method)\n",
    "\n",
    "df.show(10)\n"
   ]
  },
  {
   "cell_type": "code",
   "execution_count": 15,
   "id": "457e0fea",
   "metadata": {},
   "outputs": [
    {
     "data": {
      "image/png": "[encoded data removed]",
      "text/plain": [
       "<Figure size 432x288 with 1 Axes>"
      ]
     },
     "metadata": {},
     "output_type": "display_data"
    }
   ],
   "source": [
    "import matplotlib.pyplot as plt\n",
    "from pyspark.sql.functions import col, sum as spark_sum\n",
    "\n",
    "def plot_nan_distribution(df):\n",
    "    # Calculate the counts of NaN and non-NaN values\n",
    "    nan_count = df.select([col(c).isNull().cast(\"int\").alias(c) for c in df.columns]).groupBy().sum().collect()[0][0]\n",
    "    non_nan_count = df.count() - nan_count\n",
    "\n",
    "    # Prepare data for the pie chart\n",
    "    labels = ['NaN', 'Non-NaN']\n",
    "    sizes = [nan_count, non_nan_count]\n",
    "    colors = ['#ff9999', '#66b3ff']\n",
    "\n",
    "    # Create the pie chart\n",
    "    plt.pie(sizes, labels=labels, colors=colors, autopct='%1.1f%%', startangle=90)\n",
    "    plt.axis('equal')  # Equal aspect ratio ensures that pie is drawn as a circle\n",
    "    plt.title('NaN vs Non-NaN Values')\n",
    "\n",
    "    # Display the pie chart\n",
    "    plt.show()\n",
    "\n",
    "# Usage example\n",
    "plot_nan_distribution(df)\n"
   ]
  },
  {
   "cell_type": "code",
   "execution_count": 18,
   "id": "c0687898",
   "metadata": {},
   "outputs": [
    {
     "name": "stdout",
     "output_type": "stream",
     "text": [
      "['incident_hour_of_the_day', 'number_of_vehicles_involved'] bar\n"
     ]
    },
    {
     "ename": "ValueError",
     "evalue": "Mime type rendering requires nbformat>=4.2.0 but it is not installed",
     "output_type": "error",
     "traceback": [
      "\u001B[1;31m---------------------------------------------------------------------------\u001B[0m",
      "\u001B[1;31mValueError\u001B[0m                                Traceback (most recent call last)",
      "Cell \u001B[1;32mIn[18], line 65\u001B[0m\n\u001B[0;32m     63\u001B[0m     \u001B[39mprint\u001B[39m(\u001B[39m'\u001B[39m\u001B[39mPlease specify the type of graph (bar, line, scatter, histogram).\u001B[39m\u001B[39m'\u001B[39m)\n\u001B[0;32m     64\u001B[0m \u001B[39melse\u001B[39;00m:\n\u001B[1;32m---> 65\u001B[0m     generate_visualization(df, column_names, graph_type)\n",
      "Cell \u001B[1;32mIn[18], line 52\u001B[0m, in \u001B[0;36mgenerate_visualization\u001B[1;34m(data, column_names, graph_type)\u001B[0m\n\u001B[0;32m     49\u001B[0m     \u001B[39mreturn\u001B[39;00m\n\u001B[0;32m     51\u001B[0m fig\u001B[39m.\u001B[39mupdate_layout(title\u001B[39m=\u001B[39m\u001B[39mf\u001B[39m\u001B[39m'\u001B[39m\u001B[39m{\u001B[39;00mgraph_type\u001B[39m.\u001B[39mcapitalize()\u001B[39m}\u001B[39;00m\u001B[39m Plot\u001B[39m\u001B[39m'\u001B[39m)\n\u001B[1;32m---> 52\u001B[0m fig\u001B[39m.\u001B[39;49mshow()\n",
      "File \u001B[1;32m~\\AppData\\Local\\Packages\\PythonSoftwareFoundation.Python.3.11_qbz5n2kfra8p0\\LocalCache\\local-packages\\Python311\\site-packages\\plotly\\basedatatypes.py:3409\u001B[0m, in \u001B[0;36mBaseFigure.show\u001B[1;34m(self, *args, **kwargs)\u001B[0m\n\u001B[0;32m   3376\u001B[0m \u001B[39m\u001B[39m\u001B[39m\"\"\"\u001B[39;00m\n\u001B[0;32m   3377\u001B[0m \u001B[39mShow a figure using either the default renderer(s) or the renderer(s)\u001B[39;00m\n\u001B[0;32m   3378\u001B[0m \u001B[39mspecified by the renderer argument\u001B[39;00m\n\u001B[1;32m   (...)\u001B[0m\n\u001B[0;32m   3405\u001B[0m \u001B[39mNone\u001B[39;00m\n\u001B[0;32m   3406\u001B[0m \u001B[39m\"\"\"\u001B[39;00m\n\u001B[0;32m   3407\u001B[0m \u001B[39mimport\u001B[39;00m \u001B[39mplotly\u001B[39;00m\u001B[39m.\u001B[39;00m\u001B[39mio\u001B[39;00m \u001B[39mas\u001B[39;00m \u001B[39mpio\u001B[39;00m\n\u001B[1;32m-> 3409\u001B[0m \u001B[39mreturn\u001B[39;00m pio\u001B[39m.\u001B[39;49mshow(\u001B[39mself\u001B[39;49m, \u001B[39m*\u001B[39;49margs, \u001B[39m*\u001B[39;49m\u001B[39m*\u001B[39;49mkwargs)\n",
      "File \u001B[1;32m~\\AppData\\Local\\Packages\\PythonSoftwareFoundation.Python.3.11_qbz5n2kfra8p0\\LocalCache\\local-packages\\Python311\\site-packages\\plotly\\io\\_renderers.py:396\u001B[0m, in \u001B[0;36mshow\u001B[1;34m(fig, renderer, validate, **kwargs)\u001B[0m\n\u001B[0;32m    391\u001B[0m         \u001B[39mraise\u001B[39;00m \u001B[39mValueError\u001B[39;00m(\n\u001B[0;32m    392\u001B[0m             \u001B[39m\"\u001B[39m\u001B[39mMime type rendering requires ipython but it is not installed\u001B[39m\u001B[39m\"\u001B[39m\n\u001B[0;32m    393\u001B[0m         )\n\u001B[0;32m    395\u001B[0m     \u001B[39mif\u001B[39;00m \u001B[39mnot\u001B[39;00m nbformat \u001B[39mor\u001B[39;00m Version(nbformat\u001B[39m.\u001B[39m__version__) \u001B[39m<\u001B[39m Version(\u001B[39m\"\u001B[39m\u001B[39m4.2.0\u001B[39m\u001B[39m\"\u001B[39m):\n\u001B[1;32m--> 396\u001B[0m         \u001B[39mraise\u001B[39;00m \u001B[39mValueError\u001B[39;00m(\n\u001B[0;32m    397\u001B[0m             \u001B[39m\"\u001B[39m\u001B[39mMime type rendering requires nbformat>=4.2.0 but it is not installed\u001B[39m\u001B[39m\"\u001B[39m\n\u001B[0;32m    398\u001B[0m         )\n\u001B[0;32m    400\u001B[0m     ipython_display\u001B[39m.\u001B[39mdisplay(bundle, raw\u001B[39m=\u001B[39m\u001B[39mTrue\u001B[39;00m)\n\u001B[0;32m    402\u001B[0m \u001B[39m# external renderers\u001B[39;00m\n",
      "\u001B[1;31mValueError\u001B[0m: Mime type rendering requires nbformat>=4.2.0 but it is not installed"
     ]
    }
   ],
   "source": [
    "import difflib\n",
    "\n",
    "\n",
    "def extract_column_names_and_graph_type(text, df):\n",
    "    tokens = text.split()\n",
    "\n",
    "    column_names = []\n",
    "    graph_type = None\n",
    "\n",
    "    available_columns = df.columns\n",
    "\n",
    "    for token in tokens:\n",
    "        if token in available_columns:\n",
    "            column_names.append(token)\n",
    "        else:\n",
    "            matches = difflib.get_close_matches(token, available_columns)\n",
    "            if len(matches) > 0:\n",
    "                column_names.append(matches[0])\n",
    "        if token.lower() in ['bar', 'line', 'scatter', 'histogram']:\n",
    "            graph_type = token.lower()\n",
    "    print(column_names,graph_type)\n",
    "    return column_names, graph_type\n",
    "\n",
    "\n",
    "def generate_visualization(data, column_names, graph_type):\n",
    "    \n",
    "    data = data.toPandas()\n",
    "    if len(column_names) == 1:\n",
    "        x_column = column_names[0]\n",
    "        y_values = [1, 3, 2]  # Placeholder values\n",
    "    elif len(column_names) == 2:\n",
    "        x_column = column_names[0]\n",
    "        y_column = column_names[1]\n",
    "        y_values = data[y_column]\n",
    "    else:\n",
    "        print('Invalid number of column names!')\n",
    "        return\n",
    "\n",
    "    if graph_type == 'bar':\n",
    "        fig = px.bar(data, x=x_column, y=y_values)\n",
    "    elif graph_type == 'line':\n",
    "        fig = px.line(data, x=x_column, y=y_values)\n",
    "    elif graph_type == 'scatter':\n",
    "        fig = px.scatter(data, x=x_column, y=y_values)\n",
    "    elif graph_type == 'histogram':\n",
    "        fig = px.histogram(data, x=x_column)\n",
    "    else:\n",
    "        print('Invalid graph type!')\n",
    "        return\n",
    "\n",
    "    fig.update_layout(title=f'{graph_type.capitalize()} Plot')\n",
    "    fig.show()\n",
    "\n",
    "\n",
    "statement = input(\"Enter the statement: \")\n",
    "\n",
    "column_names, graph_type = extract_column_names_and_graph_type(statement, df)\n",
    "\n",
    "# Generate the requested visualization\n",
    "if len(column_names) < 1:\n",
    "    print('Please provide at least two column names.')\n",
    "elif graph_type is None:\n",
    "    print('Please specify the type of graph (bar, line, scatter, histogram).')\n",
    "else:\n",
    "    generate_visualization(df, column_names, graph_type)"
   ]
  }
 ],
 "metadata": {
  "kernelspec": {
   "display_name": "Python 3 (ipykernel)",
   "language": "python",
   "name": "python3"
  },
  "language_info": {
   "codemirror_mode": {
    "name": "ipython",
    "version": 3
   },
   "file_extension": ".py",
   "mimetype": "text/x-python",
   "name": "python",
   "nbconvert_exporter": "python",
   "pygments_lexer": "ipython3",
   "version": "3.11.3"
  }
 },
 "nbformat": 4,
 "nbformat_minor": 5
}
